{
 "cells": [
  {
   "cell_type": "markdown",
   "metadata": {},
   "source": [
    "# WeatherPy\n",
    "----\n",
    "\n",
    "### Analysis\n",
    "* As expected, the weather becomes significantly warmer as one approaches the equator (0 Deg. Latitude). More interestingly, however, is the fact that the southern hemisphere tends to be warmer this time of year than the northern hemisphere. This may be due to the tilt of the earth.\n",
    "* There is no strong relationship between latitude and cloudiness. However, it is interesting to see that a strong band of cities sits at 0, 80, and 100% cloudiness.\n",
    "* There is no strong relationship between latitude and wind speed. However, in northern hemispheres there is a flurry of cities with over 20 mph of wind.\n",
    "\n",
    "---\n",
    "\n",
    "#### Note\n",
    "* Instructions have been included for each segment. You do not have to follow them exactly, but they are included to help you think through the steps."
   ]
  },
  {
   "cell_type": "code",
   "execution_count": 1,
   "metadata": {
    "scrolled": true
   },
   "outputs": [],
   "source": [
    "# Dependencies and Setup\n",
    "import matplotlib.pyplot as plt\n",
    "import pandas as pd\n",
    "import numpy as np\n",
    "import requests\n",
    "import time\n",
    "from pprint import pprint\n",
    "\n",
    "# Import API key\n",
    "from api_keys import api_key\n",
    "\n",
    "# Incorporated citipy to determine city based on latitude and longitude\n",
    "from citipy import citipy\n",
    "\n",
    "# Output File (CSV)\n",
    "output_data_file = \"../output_data/cities.csv\"\n",
    "\n",
    "# Range of latitudes and longitudes\n",
    "lat_range = (-90, 90)\n",
    "lng_range = (-180, 180)"
   ]
  },
  {
   "cell_type": "markdown",
   "metadata": {},
   "source": [
    "## Generate Cities List"
   ]
  },
  {
   "cell_type": "code",
   "execution_count": 2,
   "metadata": {},
   "outputs": [],
   "source": [
    "# List for holding lat_lngs and cities\n",
    "lat_lngs = []\n",
    "cities = []\n",
    "\n",
    "# Create a set of random lat and lng combinations\n",
    "lats = np.random.uniform(low=-90.000, high=90.000, size=400)\n",
    "lngs = np.random.uniform(low=-180.000, high=180.000, size=400)\n",
    "lat_lngs = zip(lats, lngs)"
   ]
  },
  {
   "cell_type": "code",
   "execution_count": 3,
   "metadata": {},
   "outputs": [],
   "source": [
    "# Identify nearest city for each lat, lng combination\n",
    "for lat_lng in lat_lngs:\n",
    "    city = citipy.nearest_city(lat_lng[0], lat_lng[1]).city_name\n",
    "    \n",
    "    # If the city is unique, then add it to a our cities list\n",
    "    if city not in cities:\n",
    "        cities.append(city)"
   ]
  },
  {
   "cell_type": "code",
   "execution_count": 4,
   "metadata": {},
   "outputs": [
    {
     "name": "stdout",
     "output_type": "stream",
     "text": [
      "Processing Record 1 of 248 | bredasdorp\n",
      "Processing Record 2 of 248 | cidreira\n",
      "Processing Record 3 of 248 | qaanaaq\n",
      "Processing Record 4 of 248 | busselton\n",
      "Processing Record 5 of 248 | butaritari\n",
      "Processing Record 6 of 248 | hithadhoo\n",
      "City not found |  nizhneyansk\n",
      "Processing Record 7 of 247 | husavik\n",
      "Processing Record 8 of 247 | hobart\n",
      "Processing Record 9 of 247 | cape town\n",
      "Processing Record 10 of 247 | talnakh\n",
      "City not found |  andevoranto\n",
      "Processing Record 11 of 246 | lavrentiya\n",
      "City not found |  jiaojiang\n",
      "Processing Record 12 of 245 | neyshabur\n",
      "Processing Record 13 of 245 | new norfolk\n",
      "Processing Record 14 of 245 | vaini\n",
      "Processing Record 15 of 245 | avarua\n",
      "Processing Record 16 of 245 | karangasem\n",
      "Processing Record 17 of 245 | bambanglipuro\n",
      "Processing Record 18 of 245 | mahebourg\n",
      "Processing Record 19 of 245 | georgetown\n",
      "Processing Record 20 of 245 | mar del plata\n",
      "Processing Record 21 of 245 | atuona\n",
      "Processing Record 22 of 245 | kodiak\n",
      "Processing Record 23 of 245 | punta arenas\n",
      "Processing Record 24 of 245 | saskylakh\n",
      "City not found |  guekedou\n",
      "Processing Record 25 of 244 | rikitea\n",
      "Processing Record 26 of 244 | saldanha\n",
      "Processing Record 27 of 244 | mount isa\n",
      "Processing Record 28 of 244 | swan river\n",
      "Processing Record 29 of 244 | fairbanks\n",
      "Processing Record 30 of 244 | klyuchi\n",
      "City not found |  illoqqortoormiut\n",
      "Processing Record 31 of 243 | caravelas\n",
      "Processing Record 32 of 243 | saint-pierre\n",
      "Processing Record 33 of 243 | padang\n",
      "Processing Record 34 of 243 | egvekinot\n",
      "Processing Record 35 of 243 | merritt island\n",
      "Processing Record 36 of 243 | batticaloa\n",
      "Processing Record 37 of 243 | awjilah\n",
      "Processing Record 38 of 243 | prince rupert\n",
      "Processing Record 39 of 243 | meulaboh\n",
      "Processing Record 40 of 243 | atar\n",
      "Processing Record 41 of 243 | fortuna\n",
      "Processing Record 42 of 243 | codrington\n",
      "Processing Record 43 of 243 | mutare\n",
      "Processing Record 44 of 243 | port-gentil\n",
      "Processing Record 45 of 243 | bluff\n",
      "Processing Record 46 of 243 | tortosa\n",
      "Processing Record 47 of 243 | caruray\n",
      "City not found |  kapoeta\n",
      "Processing Record 48 of 242 | nizwa\n",
      "Processing Record 49 of 242 | yumen\n",
      "City not found |  burica\n",
      "Processing Record 50 of 241 | karacakoy\n",
      "Processing Record 51 of 241 | gotsu\n",
      "Processing Record 52 of 241 | rantepao\n",
      "Processing Record 53 of 241 | gediz\n",
      "Processing Record 54 of 241 | wakuya\n",
      "Processing Record 55 of 241 | leningradskiy\n",
      "Processing Record 56 of 241 | turukhansk\n",
      "Processing Record 57 of 241 | bombo\n",
      "Processing Record 58 of 241 | castro\n",
      "Processing Record 59 of 241 | thinadhoo\n",
      "Processing Record 60 of 241 | macau\n",
      "Processing Record 61 of 241 | broken hill\n",
      "Processing Record 62 of 241 | nuuk\n",
      "Processing Record 63 of 241 | chuy\n",
      "Processing Record 64 of 241 | aklavik\n",
      "Processing Record 65 of 241 | lorengau\n",
      "Processing Record 66 of 241 | mataura\n",
      "Processing Record 67 of 241 | leh\n",
      "Processing Record 68 of 241 | bonnyville\n",
      "Processing Record 69 of 241 | vestmannaeyjar\n",
      "Processing Record 70 of 241 | poum\n",
      "City not found |  taolanaro\n",
      "Processing Record 71 of 240 | victoria\n",
      "Processing Record 72 of 240 | puerto carreno\n",
      "Processing Record 73 of 240 | narsaq\n",
      "Processing Record 74 of 240 | tasiilaq\n",
      "Processing Record 75 of 240 | pathein\n",
      "Processing Record 76 of 240 | mawlaik\n",
      "Processing Record 77 of 240 | bahile\n",
      "Processing Record 78 of 240 | clinton\n",
      "Processing Record 79 of 240 | paramonga\n",
      "City not found |  vaitupu\n",
      "Processing Record 80 of 239 | ushuaia\n",
      "Processing Record 81 of 239 | northam\n",
      "Processing Record 82 of 239 | appleton\n",
      "Processing Record 83 of 239 | adrar\n",
      "City not found |  samusu\n",
      "Processing Record 84 of 238 | fort nelson\n",
      "Processing Record 85 of 238 | port alfred\n",
      "City not found |  barentsburg\n",
      "Processing Record 86 of 237 | berdigestyakh\n",
      "Processing Record 87 of 237 | amasya\n",
      "Processing Record 88 of 237 | atikokan\n",
      "City not found |  attawapiskat\n",
      "Processing Record 89 of 236 | djambala\n",
      "Processing Record 90 of 236 | thiruvananthapuram\n",
      "Processing Record 91 of 236 | dikson\n",
      "Processing Record 92 of 236 | shubarkuduk\n",
      "Processing Record 93 of 236 | kwekwe\n",
      "Processing Record 94 of 236 | esperance\n",
      "Processing Record 95 of 236 | cap malheureux\n",
      "Processing Record 96 of 236 | pivijay\n",
      "City not found |  grand river south east\n",
      "Processing Record 97 of 235 | nanortalik\n",
      "Processing Record 98 of 235 | upernavik\n",
      "Processing Record 99 of 235 | buala\n",
      "City not found |  ondorhaan\n",
      "Processing Record 100 of 234 | yarada\n",
      "Processing Record 101 of 234 | thompson\n",
      "Processing Record 102 of 234 | alofi\n",
      "Processing Record 103 of 234 | albany\n",
      "Processing Record 104 of 234 | kapaa\n",
      "Processing Record 105 of 234 | bima\n",
      "Processing Record 106 of 234 | chokurdakh\n",
      "City not found |  sindand\n",
      "Processing Record 107 of 233 | tinqueux\n",
      "Processing Record 108 of 233 | coquimbo\n",
      "Processing Record 109 of 233 | mehamn\n",
      "Processing Record 110 of 233 | rovaniemi\n",
      "Processing Record 111 of 233 | madingou\n",
      "City not found |  tsihombe\n",
      "Processing Record 112 of 232 | tuktoyaktuk\n",
      "Processing Record 113 of 232 | masuguru\n",
      "City not found |  pemangkat\n",
      "Processing Record 114 of 231 | saint-augustin\n",
      "City not found |  olafsvik\n",
      "Processing Record 115 of 230 | mahajanga\n",
      "Processing Record 116 of 230 | ilulissat\n",
      "Processing Record 117 of 230 | tiksi\n",
      "Processing Record 118 of 230 | tanout\n",
      "Processing Record 119 of 230 | lagoa\n",
      "Processing Record 120 of 230 | la ronge\n",
      "Processing Record 121 of 230 | praia da vitoria\n",
      "Processing Record 122 of 230 | ciudad bolivar\n",
      "Processing Record 123 of 230 | cayenne\n",
      "Processing Record 124 of 230 | barrow\n",
      "Processing Record 125 of 230 | severo-kurilsk\n",
      "City not found |  barbar\n",
      "Processing Record 126 of 229 | pacific grove\n",
      "Processing Record 127 of 229 | krasnomayskiy\n",
      "Processing Record 128 of 229 | bayir\n",
      "Processing Record 129 of 229 | east london\n",
      "Processing Record 130 of 229 | westport\n",
      "Processing Record 131 of 229 | pauini\n",
      "Processing Record 132 of 229 | north bend\n",
      "Processing Record 133 of 229 | hilo\n",
      "Processing Record 134 of 229 | kruisfontein\n",
      "Processing Record 135 of 229 | buta\n",
      "Processing Record 136 of 229 | puerto ayora\n",
      "Processing Record 137 of 229 | pangnirtung\n",
      "Processing Record 138 of 229 | manzil salim\n",
      "Processing Record 139 of 229 | arawa\n",
      "Processing Record 140 of 229 | airai\n",
      "Processing Record 141 of 229 | torbay\n",
      "Processing Record 142 of 229 | ostrovnoy\n",
      "Processing Record 143 of 229 | jamestown\n",
      "Processing Record 144 of 229 | hambantota\n",
      "City not found |  belushya guba\n",
      "City not found |  darya khan mari\n",
      "Processing Record 145 of 227 | sinnamary\n",
      "Processing Record 146 of 227 | wuwei\n",
      "Processing Record 147 of 227 | bambous virieux\n",
      "Processing Record 148 of 227 | barra do garcas\n",
      "City not found |  bolungarvik\n",
      "Processing Record 149 of 226 | nadym\n",
      "Processing Record 150 of 226 | tuatapere\n",
      "Processing Record 151 of 226 | amuntai\n",
      "Processing Record 152 of 226 | kahului\n",
      "Processing Record 153 of 226 | oriximina\n",
      "City not found |  bur gabo\n",
      "Processing Record 154 of 225 | jiaocheng\n",
      "Processing Record 155 of 225 | kizema\n",
      "Processing Record 156 of 225 | jalu\n",
      "Processing Record 157 of 225 | kiunga\n",
      "Processing Record 158 of 225 | cherskiy\n",
      "Processing Record 159 of 225 | magdalena\n",
      "Processing Record 160 of 225 | mollendo\n",
      "Processing Record 161 of 225 | magdagachi\n",
      "City not found |  aflu\n",
      "Processing Record 162 of 224 | lompoc\n",
      "Processing Record 163 of 224 | kedougou\n",
      "Processing Record 164 of 224 | dunedin\n",
      "Processing Record 165 of 224 | tabas\n",
      "City not found |  bengkulu\n",
      "Processing Record 166 of 223 | yulara\n",
      "City not found |  andenes\n",
      "Processing Record 167 of 222 | iqaluit\n",
      "City not found |  gulshat\n",
      "Processing Record 168 of 221 | nyurba\n",
      "Processing Record 169 of 221 | marzuq\n",
      "Processing Record 170 of 221 | katsuura\n",
      "Processing Record 171 of 221 | sampit\n",
      "Processing Record 172 of 221 | marovoay\n",
      "Processing Record 173 of 221 | yellowknife\n",
      "Processing Record 174 of 221 | kaitangata\n",
      "Processing Record 175 of 221 | eyl\n",
      "Processing Record 176 of 221 | sambava\n",
      "Processing Record 177 of 221 | lensk\n",
      "Processing Record 178 of 221 | souillac\n",
      "Processing Record 179 of 221 | itajobi\n",
      "Processing Record 180 of 221 | ambon\n",
      "Processing Record 181 of 221 | saint george\n",
      "Processing Record 182 of 221 | lebu\n",
      "Processing Record 183 of 221 | coahuayana\n",
      "City not found |  tumannyy\n",
      "Processing Record 184 of 220 | farafangana\n",
      "Processing Record 185 of 220 | muscat\n",
      "Processing Record 186 of 220 | saint-philippe\n",
      "Processing Record 187 of 220 | baykit\n"
     ]
    },
    {
     "name": "stdout",
     "output_type": "stream",
     "text": [
      "Processing Record 188 of 220 | waddan\n",
      "City not found |  mys shmidta\n",
      "Processing Record 189 of 219 | raudeberg\n",
      "Processing Record 190 of 219 | komsomolskiy\n",
      "Processing Record 191 of 219 | chuncheng\n",
      "Processing Record 192 of 219 | buenos aires\n",
      "City not found |  dianopolis\n",
      "Processing Record 193 of 218 | kajaani\n",
      "Processing Record 194 of 218 | bathsheba\n",
      "Processing Record 195 of 218 | novikovo\n",
      "Processing Record 196 of 218 | norman wells\n",
      "Processing Record 197 of 218 | kavieng\n",
      "Processing Record 198 of 218 | brae\n",
      "Processing Record 199 of 218 | los llanos de aridane\n",
      "Processing Record 200 of 218 | labuhan\n",
      "Processing Record 201 of 218 | caohe\n",
      "Processing Record 202 of 218 | sri aman\n",
      "Processing Record 203 of 218 | the valley\n",
      "Processing Record 204 of 218 | lata\n",
      "Processing Record 205 of 218 | maniitsoq\n",
      "Processing Record 206 of 218 | henderson\n",
      "Processing Record 207 of 218 | svetlogorsk\n",
      "Processing Record 208 of 218 | bandarbeyla\n",
      "City not found |  saleaula\n",
      "Processing Record 209 of 217 | snihurivka\n",
      "City not found |  tubruq\n",
      "Processing Record 210 of 216 | pizarro\n",
      "Processing Record 211 of 216 | okhotsk\n",
      "Processing Record 212 of 216 | igrim\n",
      "City not found |  nguiu\n",
      "Processing Record 213 of 215 | zhengjiatun\n",
      "Processing Record 214 of 215 | hami\n",
      "City not found |  toliary\n",
      "==========================\n",
      "====DATA RETRIVAL DONE====\n",
      "==========================\n"
     ]
    }
   ],
   "source": [
    "# Perform API Calls\n",
    "\n",
    "#query_url* Include a print log of each city as it'sbeing processed (with the city number and city name).\n",
    "\n",
    "#create empty lists for data acquisition\n",
    "latitude = []\n",
    "cityID = []\n",
    "cityTemp = []\n",
    "cityWind = []\n",
    "cityHumd = []\n",
    "cityCloud= []\n",
    "notfoundcity = []\n",
    "foundCities = []\n",
    "countries = []\n",
    "\n",
    "count = 0\n",
    "totcities = len(cities)\n",
    "\n",
    "#Perform a weather check on each city using a series of successive API calls.\n",
    "for city in cities:\n",
    "    query_url = f\"http://api.openweathermap.org/data/2.5/weather?appid={api_key}&units=imperial&q=\"\n",
    "    query_url = query_url + city\n",
    "    response = requests.get(query_url).json()\n",
    "    \n",
    "    try:\n",
    "        #get Latitude\n",
    "        lat = response['coord']['lat']\n",
    "        latitude.append(lat)\n",
    "\n",
    "        #get city_ID\n",
    "        c_id = response['id']\n",
    "        cityID.append(c_id)\n",
    "\n",
    "        #get temp\n",
    "        temp = response['main']['temp_max']\n",
    "        cityTemp.append(temp)\n",
    "\n",
    "        #get Wind Speed\n",
    "        w_speed = response['wind']['speed']\n",
    "        cityWind.append(w_speed)\n",
    "\n",
    "        #get Humidity\n",
    "        humid = response['main']['humidity']\n",
    "        cityHumd.append(humid)    \n",
    "\n",
    "        #get clouds\n",
    "        clouds = response['clouds']['all']\n",
    "        cityCloud.append(clouds)\n",
    "        \n",
    "        #Create a list of Found Cities\n",
    "        foundCities.append(city)\n",
    "        \n",
    "        count = count + 1\n",
    "        print(f'Processing Record {count} of {totcities} | {city}')\n",
    "        \n",
    "    except KeyError:\n",
    "        notfoundcity.append(city)\n",
    "        print('City not found | ',city)\n",
    "        totcities = totcities - 1\n",
    "\n",
    "print ('==========================')\n",
    "print ('====DATA RETRIVAL DONE====')\n",
    "print ('==========================')"
   ]
  },
  {
   "cell_type": "code",
   "execution_count": 5,
   "metadata": {},
   "outputs": [
    {
     "name": "stdout",
     "output_type": "stream",
     "text": [
      "Latitude:  214\n",
      "cityID:  214\n",
      "cityTemp:  214\n",
      "cityWind:  214\n",
      "cityHumd:  214\n",
      "cityCloud:  214\n",
      "foundCities:  214\n"
     ]
    }
   ],
   "source": [
    "print('Latitude: ', len(latitude))\n",
    "print('cityID: ', len(cityID))\n",
    "print('cityTemp: ', len(cityTemp))\n",
    "print('cityWind: ', len(cityWind))\n",
    "print('cityHumd: ', len(cityHumd))\n",
    "print('cityCloud: ', len(cityCloud))\n",
    "print('foundCities: ', len(foundCities))\n"
   ]
  },
  {
   "cell_type": "markdown",
   "metadata": {},
   "source": [
    "### Convert Raw Data to DataFrame\n",
    "* Export the city data into a .csv.\n",
    "* Display the DataFrame"
   ]
  },
  {
   "cell_type": "code",
   "execution_count": 9,
   "metadata": {},
   "outputs": [
    {
     "data": {
      "text/html": [
       "<div>\n",
       "<style scoped>\n",
       "    .dataframe tbody tr th:only-of-type {\n",
       "        vertical-align: middle;\n",
       "    }\n",
       "\n",
       "    .dataframe tbody tr th {\n",
       "        vertical-align: top;\n",
       "    }\n",
       "\n",
       "    .dataframe thead th {\n",
       "        text-align: right;\n",
       "    }\n",
       "</style>\n",
       "<table border=\"1\" class=\"dataframe\">\n",
       "  <thead>\n",
       "    <tr style=\"text-align: right;\">\n",
       "      <th></th>\n",
       "      <th>City</th>\n",
       "      <th>cityID</th>\n",
       "      <th>Latitude</th>\n",
       "      <th>Temp Max (F)</th>\n",
       "      <th>Wind Speed</th>\n",
       "      <th>Humidity</th>\n",
       "      <th>Cloudiness</th>\n",
       "    </tr>\n",
       "  </thead>\n",
       "  <tbody>\n",
       "    <tr>\n",
       "      <th>0</th>\n",
       "      <td>bredasdorp</td>\n",
       "      <td>1015776</td>\n",
       "      <td>-34.53</td>\n",
       "      <td>69.80</td>\n",
       "      <td>3.36</td>\n",
       "      <td>94</td>\n",
       "      <td>88</td>\n",
       "    </tr>\n",
       "    <tr>\n",
       "      <th>1</th>\n",
       "      <td>cidreira</td>\n",
       "      <td>3466165</td>\n",
       "      <td>-30.17</td>\n",
       "      <td>69.10</td>\n",
       "      <td>12.46</td>\n",
       "      <td>96</td>\n",
       "      <td>8</td>\n",
       "    </tr>\n",
       "    <tr>\n",
       "      <th>2</th>\n",
       "      <td>qaanaaq</td>\n",
       "      <td>3831208</td>\n",
       "      <td>77.48</td>\n",
       "      <td>-29.64</td>\n",
       "      <td>7.43</td>\n",
       "      <td>91</td>\n",
       "      <td>0</td>\n",
       "    </tr>\n",
       "    <tr>\n",
       "      <th>3</th>\n",
       "      <td>busselton</td>\n",
       "      <td>2075265</td>\n",
       "      <td>-33.64</td>\n",
       "      <td>93.00</td>\n",
       "      <td>6.64</td>\n",
       "      <td>21</td>\n",
       "      <td>0</td>\n",
       "    </tr>\n",
       "    <tr>\n",
       "      <th>4</th>\n",
       "      <td>butaritari</td>\n",
       "      <td>2110227</td>\n",
       "      <td>3.07</td>\n",
       "      <td>83.23</td>\n",
       "      <td>16.26</td>\n",
       "      <td>100</td>\n",
       "      <td>92</td>\n",
       "    </tr>\n",
       "  </tbody>\n",
       "</table>\n",
       "</div>"
      ],
      "text/plain": [
       "         City   cityID  Latitude  Temp Max (F)  Wind Speed  Humidity  \\\n",
       "0  bredasdorp  1015776    -34.53         69.80        3.36        94   \n",
       "1    cidreira  3466165    -30.17         69.10       12.46        96   \n",
       "2     qaanaaq  3831208     77.48        -29.64        7.43        91   \n",
       "3   busselton  2075265    -33.64         93.00        6.64        21   \n",
       "4  butaritari  2110227      3.07         83.23       16.26       100   \n",
       "\n",
       "   Cloudiness  \n",
       "0          88  \n",
       "1           8  \n",
       "2           0  \n",
       "3           0  \n",
       "4          92  "
      ]
     },
     "execution_count": 9,
     "metadata": {},
     "output_type": "execute_result"
    }
   ],
   "source": [
    "weather_dict ={\"City\":foundCities, \"cityID\":cityID, \"Latitude\":latitude, \"Temp Max (F)\":cityTemp, \\\n",
    "               \"Wind Speed\":cityWind, \"Humidity\":cityHumd, \"Cloudiness\":cityCloud}\n",
    "\n",
    "weather_df = pd.DataFrame(weather_dict)\n",
    "\n",
    "# Export file as a CSV, without the Pandas index, but with the header\n",
    "weather_df.to_csv(output_data_file, index=False, header=True)\n",
    "\n",
    "weather_df.head()"
   ]
  },
  {
   "cell_type": "markdown",
   "metadata": {},
   "source": [
    "### Plotting the Data\n",
    "* Use proper labeling of the plots using plot titles (including date of analysis) and axes labels.\n",
    "* Save the plotted figures as .pngs."
   ]
  },
  {
   "cell_type": "markdown",
   "metadata": {},
   "source": [
    "#### Latitude vs. Temperature Plot"
   ]
  },
  {
   "cell_type": "code",
   "execution_count": 10,
   "metadata": {},
   "outputs": [
    {
     "data": {
      "image/png": "[encoded data removed]",
      "text/plain": [
       "<Figure size 432x288 with 1 Axes>"
      ]
     },
     "metadata": {
      "needs_background": "light"
     },
     "output_type": "display_data"
    }
   ],
   "source": [
    "# Tells matplotlib that we want to make a scatter plot\n",
    "plt.scatter(weather_df['Latitude'], weather_df['Temp Max (F)'], marker=\"o\", facecolors=\"blue\",\n",
    "            edgecolors=\"orange\", alpha=0.75)\n",
    "# The y limits of our scatter plot is 0 to 1\n",
    "plt.xlim(weather_df['Latitude'].min()-1, weather_df['Latitude'].max()+1)\n",
    "plt.ylim(weather_df['Temp Max (F)'].min()-1, weather_df['Temp Max (F)'].max()+1)\n",
    "\n",
    "plt.title(\"City Latitude vs. Temperature\")\n",
    "plt.xlabel(\"Latitude\")\n",
    "plt.ylabel(\"Temperature (Fahrenheit)\")\n",
    "\n",
    "plt.savefig(\"../Images/temperature.png\")\n",
    "plt.show()"
   ]
  },
  {
   "cell_type": "markdown",
   "metadata": {},
   "source": [
    "#### Latitude vs. Humidity Plot"
   ]
  },
  {
   "cell_type": "code",
   "execution_count": 11,
   "metadata": {},
   "outputs": [
    {
     "data": {
      "image/png": "[encoded data removed]",
      "text/plain": [
       "<Figure size 432x288 with 1 Axes>"
      ]
     },
     "metadata": {
      "needs_background": "light"
     },
     "output_type": "display_data"
    }
   ],
   "source": [
    "plt.scatter(weather_df['Latitude'], weather_df['Humidity'], marker=\"o\", facecolors=\"blue\",\n",
    "            edgecolors=\"orange\", alpha=0.75)\n",
    "\n",
    "plt.xlim(weather_df['Latitude'].min()-1, weather_df['Latitude'].max()+1)\n",
    "plt.ylim(weather_df['Humidity'].min(), weather_df['Humidity'].max())\n",
    "\n",
    "plt.title(\"City Latitude vs. Humidity\")\n",
    "plt.xlabel(\"Latitude\")\n",
    "plt.ylabel(\"Humidity (%)\")\n",
    "\n",
    "plt.savefig(\"../Images/humidity.png\")\n",
    "plt.show()"
   ]
  },
  {
   "cell_type": "markdown",
   "metadata": {},
   "source": [
    "#### Latitude vs. Cloudiness Plot"
   ]
  },
  {
   "cell_type": "code",
   "execution_count": 12,
   "metadata": {},
   "outputs": [
    {
     "data": {
      "image/png": "[encoded data removed]",
      "text/plain": [
       "<Figure size 432x288 with 1 Axes>"
      ]
     },
     "metadata": {
      "needs_background": "light"
     },
     "output_type": "display_data"
    }
   ],
   "source": [
    "plt.scatter(weather_df['Latitude'], weather_df['Cloudiness'], marker=\"o\", facecolors=\"blue\",\n",
    "            edgecolors=\"orange\", alpha=0.75)\n",
    "plt.xlim(weather_df['Latitude'].min()-1, weather_df['Latitude'].max()+1)\n",
    "plt.ylim(weather_df['Cloudiness'].min(), weather_df['Cloudiness'].max())\n",
    "\n",
    "plt.title(\"City Latitude vs. Cloudiness\")\n",
    "plt.xlabel(\"Latitude\")\n",
    "plt.ylabel(\"Cloudiness\")\n",
    "\n",
    "plt.savefig(\"../Images/Cloudiness.png\")\n",
    "plt.show()"
   ]
  },
  {
   "cell_type": "markdown",
   "metadata": {},
   "source": [
    "#### Latitude vs. Wind Speed Plot"
   ]
  },
  {
   "cell_type": "code",
   "execution_count": 13,
   "metadata": {},
   "outputs": [
    {
     "data": {
      "image/png": "[encoded data removed]",
      "text/plain": [
       "<Figure size 432x288 with 1 Axes>"
      ]
     },
     "metadata": {
      "needs_background": "light"
     },
     "output_type": "display_data"
    }
   ],
   "source": [
    "plt.scatter(weather_df['Latitude'], weather_df['Wind Speed'], marker=\"o\", facecolors=\"blue\",\n",
    "            edgecolors=\"orange\", alpha=0.75)\n",
    "plt.xlim(weather_df['Latitude'].min()-1, weather_df['Latitude'].max()+1)\n",
    "plt.ylim(weather_df['Wind Speed'].min(), weather_df['Wind Speed'].max())\n",
    "\n",
    "plt.title(\"City Latitude vs. Wind Speed\")\n",
    "plt.xlabel(\"Latitude\")\n",
    "plt.ylabel(\"Wind Speed\")\n",
    "\n",
    "plt.savefig(\"../Images/WindSpeed.png\")\n",
    "plt.show()"
   ]
  },
  {
   "cell_type": "code",
   "execution_count": null,
   "metadata": {},
   "outputs": [],
   "source": []
  }
 ],
 "metadata": {
  "anaconda-cloud": {},
  "kernel_info": {
   "name": "python3"
  },
  "kernelspec": {
   "display_name": "Python 3",
   "language": "python",
   "name": "python3"
  },
  "language_info": {
   "codemirror_mode": {
    "name": "ipython",
    "version": 3
   },
   "file_extension": ".py",
   "mimetype": "text/x-python",
   "name": "python",
   "nbconvert_exporter": "python",
   "pygments_lexer": "ipython3",
   "version": "3.7.1"
  },
  "nteract": {
   "version": "0.12.3"
  }
 },
 "nbformat": 4,
 "nbformat_minor": 2
}
